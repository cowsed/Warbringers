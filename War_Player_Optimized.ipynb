{
  "nbformat": 4,
  "nbformat_minor": 0,
  "metadata": {
    "colab": {
      "name": "War Player Optimized",
      "provenance": [],
      "collapsed_sections": [
        "fsCQQgR4Qgqo",
        "FcZyQPZ2Sfvz"
      ],
      "toc_visible": true
    },
    "kernelspec": {
      "name": "python3",
      "display_name": "Python 3"
    }
  },
  "cells": [
    {
      "cell_type": "markdown",
      "metadata": {
        "id": "NsAL9cys9Rg-"
      },
      "source": [
        "#War Rules\n",
        "\n",
        "Just the card game with a few stipulations\n",
        "\n",
        "##Stipulation 1\n",
        "The losing card of a normal (no war) altrecation is put on the bottom of the winning deck first, followed by the winning card\n",
        "##Stipulation 2\n",
        "only one card per war\n",
        "you flip, if theyre even, you flip again\n",
        "##Stipulation 3\n"
      ]
    },
    {
      "cell_type": "markdown",
      "metadata": {
        "id": "r1VGfs_1RH_U"
      },
      "source": [
        "#Imports & Google Drive Mounting"
      ]
    },
    {
      "cell_type": "code",
      "metadata": {
        "colab": {
          "base_uri": "https://localhost:8080/"
        },
        "id": "9e99VjfrRQZ3",
        "outputId": "bef48e1d-05ed-40e3-a44c-fefcef456790"
      },
      "source": [
        "#Mount Google Drive\n",
        "from google.colab import drive\n",
        "drive.mount('/content/drive')\n",
        "\n",
        "#Imports\n",
        "from itertools import permutations\n",
        "from math import factorial\n",
        "import csv"
      ],
      "execution_count": 1,
      "outputs": [
        {
          "output_type": "stream",
          "text": [
            "Drive already mounted at /content/drive; to attempt to forcibly remount, call drive.mount(\"/content/drive\", force_remount=True).\n"
          ],
          "name": "stdout"
        }
      ]
    },
    {
      "cell_type": "markdown",
      "metadata": {
        "id": "tc1wuTRkQl8A"
      },
      "source": [
        "#Permutation generator"
      ]
    },
    {
      "cell_type": "code",
      "metadata": {
        "id": "fH9JMZSfRCRr"
      },
      "source": [
        "def permutationsNoRepeats(iterable):\n",
        "  #Deines a generator that creates all possible combinations of the permutations of the iterable without repeats\n",
        "  n=factorial(len(iterable))\n",
        "  p1=permutations(iterable)\n",
        "  for i1,h1 in enumerate(p1):\n",
        "    p2=permutations(iterable)\n",
        "    for i2, h2 in enumerate(p2):\n",
        "      if i2>i1-1:\n",
        "        yield h1,h2\n"
      ],
      "execution_count": 2,
      "outputs": []
    },
    {
      "cell_type": "code",
      "metadata": {
        "colab": {
          "base_uri": "https://localhost:8080/"
        },
        "id": "M9SDuqSuHnEs",
        "outputId": "f4cf4f0e-424e-407f-f45e-61e8c7c688f7"
      },
      "source": [
        "for i in permutationsNoRepeats([1,2,3]):\n",
        "  print(i)"
      ],
      "execution_count": 3,
      "outputs": [
        {
          "output_type": "stream",
          "text": [
            "((1, 2, 3), (1, 2, 3))\n",
            "((1, 2, 3), (1, 3, 2))\n",
            "((1, 2, 3), (2, 1, 3))\n",
            "((1, 2, 3), (2, 3, 1))\n",
            "((1, 2, 3), (3, 1, 2))\n",
            "((1, 2, 3), (3, 2, 1))\n",
            "((1, 3, 2), (1, 3, 2))\n",
            "((1, 3, 2), (2, 1, 3))\n",
            "((1, 3, 2), (2, 3, 1))\n",
            "((1, 3, 2), (3, 1, 2))\n",
            "((1, 3, 2), (3, 2, 1))\n",
            "((2, 1, 3), (2, 1, 3))\n",
            "((2, 1, 3), (2, 3, 1))\n",
            "((2, 1, 3), (3, 1, 2))\n",
            "((2, 1, 3), (3, 2, 1))\n",
            "((2, 3, 1), (2, 3, 1))\n",
            "((2, 3, 1), (3, 1, 2))\n",
            "((2, 3, 1), (3, 2, 1))\n",
            "((3, 1, 2), (3, 1, 2))\n",
            "((3, 1, 2), (3, 2, 1))\n",
            "((3, 2, 1), (3, 2, 1))\n"
          ],
          "name": "stdout"
        }
      ]
    },
    {
      "cell_type": "markdown",
      "metadata": {
        "id": "fsCQQgR4Qgqo"
      },
      "source": [
        "#Helper Functions"
      ]
    },
    {
      "cell_type": "markdown",
      "metadata": {
        "id": "KoZ2qmtJSG8f"
      },
      "source": [
        "##Hand Formatting"
      ]
    },
    {
      "cell_type": "code",
      "metadata": {
        "id": "jK0-gzCLSFw0"
      },
      "source": [
        "def pprint(i,l):\n",
        "  #\"Pretty Print\" hand so that the next to be played is the left most one\n",
        "  print(\"Hand: \"+str(l[i:]+l[0:i])  )\n",
        "def pret(i,l):\n",
        "  #\"Pretty Return\" a hand that has the next to be played first\n",
        "  return tuple(l[i:]+l[0:i])  "
      ],
      "execution_count": 4,
      "outputs": []
    },
    {
      "cell_type": "markdown",
      "metadata": {
        "id": "FcZyQPZ2Sfvz"
      },
      "source": [
        "##Formulas for amount finished"
      ]
    },
    {
      "cell_type": "code",
      "metadata": {
        "id": "0_tgZuRXSkTb"
      },
      "source": [
        "def calc_num_games(hand_size):\n",
        "  return int(factorial(hand_size)*(factorial(hand_size)+1)/2)\n"
      ],
      "execution_count": 5,
      "outputs": []
    },
    {
      "cell_type": "markdown",
      "metadata": {
        "id": "tpB6TgWFQxLX"
      },
      "source": [
        "#Game Player"
      ]
    },
    {
      "cell_type": "markdown",
      "metadata": {
        "id": "v1fFV6-JR5Da"
      },
      "source": [
        "##Setup"
      ]
    },
    {
      "cell_type": "code",
      "metadata": {
        "id": "4-Rv4falQVal"
      },
      "source": [
        " size= 7              #Size of one players hand\n",
        "log_style='some'                   #Type of logging to do \n",
        "\n",
        "hand_iterable=list(range(1,size+1)) #list of possible cards (for n=3, 1,2,3)\n",
        "\n",
        "number_of_games=calc_num_games(size)"
      ],
      "execution_count": 6,
      "outputs": []
    },
    {
      "cell_type": "markdown",
      "metadata": {
        "id": "JXJ8d-ciR7RL"
      },
      "source": [
        "##Running\n",
        "Not a function because it needs the hashmap accessible\n",
        "\n",
        "\n",
        "i mean idiot literally just use globals"
      ]
    },
    {
      "cell_type": "code",
      "metadata": {
        "id": "2R38gc-w82mP"
      },
      "source": [
        "#TODO Fix logging because i fricked up the delimeter but changing it would screw up reading it and i dont want to fix that"
      ],
      "execution_count": 7,
      "outputs": []
    },
    {
      "cell_type": "code",
      "metadata": {
        "colab": {
          "base_uri": "https://localhost:8080/"
        },
        "id": "Q-ZgG1d7P6Os",
        "outputId": "8c468f06-15c0-4a9b-91d8-364e7e79b76b"
      },
      "source": [
        "#Magic Numbers\n",
        "#afterWarOffset=4\n",
        "max_war=0\n",
        "\n",
        "\n",
        "#Store game signatures and their outcomes here\n",
        "#Game signatures are pret(h1)+pret(h2)\n",
        "hash_map={}\n",
        "\n",
        "#Percentage counter\n",
        "count=0\n",
        "with open('FINALWAR'+str(size)+'x'+str(size)+'.csv', 'w', newline='') as csvfile:\n",
        "  #Prepare Logging\n",
        "  logwriter = csv.writer(csvfile, delimiter='|',\n",
        "                         quotechar='\"', quoting=csv.QUOTE_ALL)\n",
        "  \n",
        "  game=0\n",
        "  #Cycle through all \n",
        "  for h1,h2 in permutationsNoRepeats(hand_iterable):  #\n",
        "    if game%5000==0:\n",
        "      print(100*game/number_of_games,\"% finsihed\")\n",
        "    game+=1\n",
        "  #for h1,h2 in [[  (5, 3, 2, 6, 1, 4), (5, 1, 6, 4, 3, 2)  ] , [  (5, 3, 2, 6, 1, 4), (5, 1, 6, 4, 3, 2)  ]]:\n",
        "    #Hold the starting hands for saving later\n",
        "    opening_hands=(h1[:],h2[:])\n",
        "    results=[]\n",
        "\n",
        "    #Setup\n",
        "    \n",
        "    #Create editable hands\n",
        "    h1=list(h1)\n",
        "    h2=list(h2)\n",
        "\n",
        "    #Create offset for the top of the decks h1 and h2\n",
        "    h1Off=0\n",
        "    h2Off=0\n",
        "\n",
        "    #Tracking numbers\n",
        "    turn=0\n",
        "    game_winner=\"?\"     #The winner of the game\n",
        "    playing=True        #If the game should continue\n",
        "    in_war=False        #If the game is in a state of war\n",
        "    war_spoils=[[],[]]  #List to hold the spoils from wars\n",
        "\n",
        "\n",
        "    #Logging lists\n",
        " \n",
        "\n",
        "    #Infinite loop detection\n",
        "    #MAYBE get index by using it as the value for a dict entry\n",
        "    #Check if its in the dict\n",
        "    #if not add it\n",
        "    #if it is, dont over write it but get the value at that key\n",
        "    num_encountered_hands=0   #Number of hands (basically an index that can be found without going through all of the )\n",
        "    encountered_hands={}      #Set of hands that have been seen this game  -  does not need order\n",
        "    encountered_states=[]     #List states of the game in the form of (index of hand 1, index of hand 2) in encountered hands  -  needs order for logging and \n",
        "\n",
        "\n",
        "    #Play Game\n",
        "    while playing:\n",
        "      #print(turn)\n",
        "      #pprint(h1Off,h1)\n",
        "      #pprint(h2Off,h2)\n",
        "\n",
        "\n",
        "      #Keep track of turns\n",
        "      turn+=1 \n",
        "\n",
        "\n",
        "\n",
        "      #Infinite loop catching\n",
        "      \n",
        "      #If these hands have not been seen in previously encountered hands, add them\n",
        "      if pret(h1Off,h1) not in encountered_hands:\n",
        "        encountered_hands[pret(h1Off,h1)]=num_encountered_hands\n",
        "        num_encountered_hands+=1\n",
        "      if pret(h2Off,h2) not in encountered_hands:\n",
        "        encountered_hands[pret(h2Off,h2)]=num_encountered_hands\n",
        "        num_encountered_hands+=1\n",
        "\n",
        "      #Create representative of state of game\n",
        "      #TODO this may be susceptable to problems if the war contains a different order of numbers but the hands have the same (not sure if thats possible though)\n",
        "\n",
        "      if pret(h1Off,h1) in encountered_hands:\n",
        "        h1Index=encountered_hands[pret(h1Off,h1)]\n",
        "      if pret(h2Off,h1) in encountered_hands:\n",
        "        h2Index=encountered_hands[pret(h2Off,h2)]\n",
        "\n",
        "      current_state=(h1Index,h2Index)\n",
        "\n",
        "      #Check if this state has been seen before\n",
        "      if current_state in encountered_states:\n",
        "\n",
        "        #If it has return that as it has entered an infinite loop\n",
        "        encountered_states.append( current_state)\n",
        "        \n",
        "        loop_start=encountered_states.index(current_state)\n",
        "        loop_length=len(encountered_states) - loop_start  -1\n",
        "        \n",
        "        #Outcome of the game\n",
        "        game_winner=\"draw_inf\"\n",
        "        #print(\"DRAWW\")\n",
        "        #Create results tuple\n",
        "        results=( game_winner,turn,(loop_start,loop_length)  )\n",
        "\n",
        "\n",
        "        #Stop the game\n",
        "        playing=False\n",
        "      else:\n",
        "        #Add to encountered states\n",
        "        encountered_states.append(current_state)\n",
        "\n",
        "\n",
        "      #Play the game\n",
        "\n",
        "      #Compare hands 1 and 2\n",
        "      if h1[h1Off]>h2[h2Off]:   #H1 Wins Round\n",
        "        if not in_war:  \n",
        "          loser=h2.pop(h2Off)     #Remove losing card from opponent\n",
        "          h1.insert(h1Off,loser)  #Place losing card in hand\n",
        "          h1Off+=2                #Update where the top of the deck is\n",
        "        else:                   #H1 Wins War\n",
        "\n",
        "          #Save war ending winner, loser from table space\n",
        "          loser=h2.pop(h2Off)\n",
        "          winner=h1.pop(h1Off)\n",
        "\n",
        "          #Add war ending winner, loser to hand space\n",
        "          h1.insert(h1Off,winner)\n",
        "          h1.insert(h1Off,loser)\n",
        "\n",
        "          #Insert war spoils to winning hand\n",
        "\n",
        "          #Here hand 1 won so put losers from hand 2 in first\n",
        "          for card1,card2 in zip(reversed(war_spoils[0]),reversed(war_spoils[1])):\n",
        "            h1.insert(h1Off,card2)\n",
        "            h1.insert(h1Off,card1)\n",
        "\n",
        "\n",
        "          h1Off+=len(war_spoils[0])+len(war_spoils[1])+2#+len(war_spoils[0])\n",
        "\n",
        "\n",
        "          #Reset spoils since this turn ended the war\n",
        "          war_spoils=[[],[]]\n",
        "          in_war=False\n",
        "\n",
        "      elif h1[h1Off]<h2[h2Off]: #H2 Wins Turn\n",
        "        if not in_war:\n",
        "          loser=h1.pop(h1Off)     #Remove losing card from opponent\n",
        "          h2.insert(h2Off,loser)  #Place losing card in hand\n",
        "          h2Off+=2                #Update where the top of the deck is\n",
        "        else:                   #H2 Wins War\n",
        "\n",
        "\n",
        "          #Save war ending winner, loser from table space\n",
        "          loser=h1.pop(h1Off)\n",
        "          winner=h2.pop(h2Off)\n",
        "\n",
        "          #Add war ending winner, loser to hand space\n",
        "          h2.insert(h2Off, winner)\n",
        "          h2.insert(h2Off,loser)\n",
        "\n",
        "          #Insert war spoils to winning hand\n",
        "\n",
        "          #here hand 2 won so put losers from hand 1 in first\n",
        "          for card1,card2 in zip(reversed(war_spoils[0]),reversed(war_spoils[1])):\n",
        "            h2.insert(h2Off,card1)\n",
        "            h2.insert(h2Off,card2)\n",
        "\n",
        "\n",
        "          h2Off+=len(war_spoils[0])+len(war_spoils[1])+2#+len(war_spoils[1])\n",
        "\n",
        "          #Reset spoils since this is the end of war\n",
        "          war_spoils=[[],[]]\n",
        "          in_war=False\n",
        "\n",
        "      else:\n",
        "        #possible war!\n",
        "\n",
        "        if min(len(h1),len(h2)) == 1: #A draw because of no cards left z\n",
        "\n",
        "          if len(h1)>len(h2):\n",
        "            game_winner=\"hand 1\"\n",
        "          elif len(h1)<len(h2):\n",
        "            game_winner=\"hand 2\"\n",
        "          else: \n",
        "            game_winner=\"draw\"\n",
        "\n",
        "          playing=False\n",
        "          \n",
        "          results=(game_winner,turn,(-1,-1))\n",
        "\n",
        "        else:\n",
        "\n",
        "          #Remove Warbringers from hands and put them in buffer\n",
        "          war_spoils[0].append(h1.pop(h1Off))\n",
        "          war_spoils[1].append(h2.pop(h2Off))\n",
        "          \n",
        "\n",
        "          #Calculate num spoils  (should never be 0 cuz thats accounted for up there ^)\n",
        "          num_spoils=min(len(h1),len(h2))-1\n",
        "          num_spoils=min(num_spoils,max_war) \n",
        "\n",
        "          #TODO this if may not be necessary\n",
        "          if num_spoils+1!=0:\n",
        "            in_war=True\n",
        "\n",
        "            #Hand 1\n",
        "            for cards in range(num_spoils):\n",
        "              war_spoils[0].append(h1.pop(h1Off))\n",
        "            #Hand 2\n",
        "            for card_index in range(num_spoils):\n",
        "              war_spoils[1].append(h2.pop(h2Off))\n",
        "\n",
        "\n",
        "      #End game when one player runs out of cars\n",
        "      if min(len(h1),len(h2)) == 0: \n",
        "        if len(h1)>len(h2):\n",
        "          game_winner=\"hand 1\"\n",
        "        elif len(h1)<len(h2):\n",
        "          game_winner=\"hand 2\"\n",
        "        else: \n",
        "          game_winner=\"draw\"\n",
        "\n",
        "        #End Game\n",
        "        playing=False\n",
        "        results=(game_winner,turn,(-1,-1))\n",
        "\n",
        "      '''\n",
        "      #Previous game catching \n",
        "      #TODO do a check for the opposite (h2,h1) and just reverse the outcome\n",
        "      state_sig=pret(h1Off,h1)+pret(h2Off,h2)\n",
        "      if state_sig in hash_map:\n",
        "        print(\"I HAVE BEEN FOUND BEFORE\")\n",
        "        print(state_sig)\n",
        "        print(\"=\"*4)\n",
        "        #Add results then break\n",
        "        end_results=hash_map[state_sig]\n",
        "        #Starting hands added later but not stored in end yet\n",
        "        #        results=( game_winner,turns,sum_log,hand_size_log,(loop_start,loop_length)  )\n",
        "        print(end_results)\n",
        "        print(\"was: \",turn,sum_log,hand_size_log)\n",
        "        results=[end_results[0],turn+end_results[1],sum_log+end_results[2],hand_size_log+end_results[3],(turn+end_results[4][0],end_results[4][1])]\n",
        "        break\n",
        "      '''\n",
        "      if playing:\n",
        "        #Loop indices back\n",
        "        h1Off=h1Off%len(h1)\n",
        "        h2Off=h2Off%len(h2)\n",
        "\n",
        "\n",
        "\n",
        "\n",
        "\n",
        "    #Naive way - just adda  game to hash map with no chjecks at the end\n",
        "    state_sig=pret(0,opening_hands[0])+pret(0,opening_hands[1])\n",
        "    #print(state_sig)\n",
        "    if not state_sig in hash_map:\n",
        "      #print(\"I added to the hash map\")\n",
        "      hash_map[state_sig]=results\n",
        "    else:\n",
        "      print(\"Youve been seen before\")\n",
        "\n",
        "    if count%(int(number_of_games/200+1))==0:\n",
        "      #print(str((count/number_of_games)*100)+\"%\\t\"+str(count))\n",
        "      pass\n",
        "    count+=1\n",
        "\n",
        "    #Here, we can log the results\n",
        "    #print(\"Results: \",results)\n",
        "    \n",
        "    results=list(results)\n",
        "    results.insert(0,opening_hands[1])\n",
        "    results.insert(0,opening_hands[0])\n",
        "    logwriter.writerow(results)\n",
        "\n"
      ],
      "execution_count": null,
      "outputs": [
        {
          "output_type": "stream",
          "text": [
            "0.0 % finsihed\n",
            "0.03935978940938274 % finsihed\n",
            "0.07871957881876548 % finsihed\n",
            "0.11807936822814823 % finsihed\n",
            "0.15743915763753097 % finsihed\n",
            "0.19679894704691372 % finsihed\n",
            "0.23615873645629645 % finsihed\n",
            "0.2755185258656792 % finsihed\n",
            "0.31487831527506194 % finsihed\n",
            "0.3542381046844447 % finsihed\n",
            "0.39359789409382745 % finsihed\n",
            "0.4329576835032102 % finsihed\n",
            "0.4723174729125929 % finsihed\n",
            "0.5116772623219756 % finsihed\n",
            "0.5510370517313584 % finsihed\n",
            "0.5903968411407412 % finsihed\n",
            "0.6297566305501239 % finsihed\n",
            "0.6691164199595067 % finsihed\n",
            "0.7084762093688894 % finsihed\n",
            "0.7478359987782721 % finsihed\n",
            "0.7871957881876549 % finsihed\n",
            "0.8265555775970376 % finsihed\n",
            "0.8659153670064204 % finsihed\n",
            "0.9052751564158031 % finsihed\n",
            "0.9446349458251858 % finsihed\n",
            "0.9839947352345686 % finsihed\n",
            "1.0233545246439513 % finsihed\n",
            "1.0627143140533342 % finsihed\n",
            "1.1020741034627168 % finsihed\n",
            "1.1414338928720995 % finsihed\n",
            "1.1807936822814824 % finsihed\n",
            "1.220153471690865 % finsihed\n",
            "1.2595132611002477 % finsihed\n",
            "1.2988730505096306 % finsihed\n",
            "1.3382328399190133 % finsihed\n",
            "1.377592629328396 % finsihed\n",
            "1.4169524187377789 % finsihed\n",
            "1.4563122081471616 % finsihed\n",
            "1.4956719975565442 % finsihed\n",
            "1.5350317869659271 % finsihed\n",
            "1.5743915763753098 % finsihed\n",
            "1.6137513657846925 % finsihed\n",
            "1.6531111551940751 % finsihed\n",
            "1.692470944603458 % finsihed\n",
            "1.7318307340128407 % finsihed\n",
            "1.7711905234222234 % finsihed\n",
            "1.8105503128316063 % finsihed\n",
            "1.849910102240989 % finsihed\n",
            "1.8892698916503716 % finsihed\n",
            "1.9286296810597545 % finsihed\n",
            "1.9679894704691372 % finsihed\n",
            "2.00734925987852 % finsihed\n",
            "2.0467090492879025 % finsihed\n",
            "2.0860688386972854 % finsihed\n",
            "2.1254286281066683 % finsihed\n",
            "2.164788417516051 % finsihed\n",
            "2.2041482069254337 % finsihed\n",
            "2.2435079963348166 % finsihed\n",
            "2.282867785744199 % finsihed\n",
            "2.322227575153582 % finsihed\n",
            "2.361587364562965 % finsihed\n",
            "2.4009471539723473 % finsihed\n",
            "2.44030694338173 % finsihed\n",
            "2.479666732791113 % finsihed\n",
            "2.5190265222004955 % finsihed\n",
            "2.5583863116098784 % finsihed\n",
            "2.5977461010192613 % finsihed\n",
            "2.6371058904286437 % finsihed\n",
            "2.6764656798380266 % finsihed\n",
            "2.7158254692474095 % finsihed\n",
            "2.755185258656792 % finsihed\n",
            "2.794545048066175 % finsihed\n",
            "2.8339048374755578 % finsihed\n"
          ],
          "name": "stdout"
        }
      ]
    },
    {
      "cell_type": "code",
      "metadata": {
        "id": "qC1EusKU7wYh"
      },
      "source": [
        "# from IPython.display import display, Math\n",
        "# a=2\n",
        "# b=2\n",
        "# P=2*a+2*b\n",
        "# V=a*b\n",
        "# display(Math(r'Dims: {}x{}m \\\\ Area: {}m^2 \\\\ Volume: {}m^3'.format(a, round(b,2), P, V)))"
      ],
      "execution_count": null,
      "outputs": []
    }
  ]
}